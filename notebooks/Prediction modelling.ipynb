{
 "cells": [
  {
   "attachments": {},
   "cell_type": "markdown",
   "metadata": {},
   "source": [
    "# Modelling of predictions\n",
    "\n",
    "This notebook contains code for computational models of prediction data.\n"
   ]
  },
  {
   "cell_type": "code",
   "execution_count": 3,
   "metadata": {},
   "outputs": [
    {
     "name": "stdout",
     "output_type": "stream",
     "text": [
      "Font saved to: ./fonts\n",
      "Matplotlib style set to: style.mplstyle with font Heebo\n"
     ]
    }
   ],
   "source": [
    "import os\n",
    "\n",
    "import matplotlib.pyplot as plt\n",
    "import numpy as np\n",
    "import pandas as pd\n",
    "import seaborn as sns\n",
    "from scipy.stats import pearsonr, spearmanr\n",
    "from pingouin import mediation_analysis\n",
    "from stats_utils.regression.analysis import sequential_regression\n",
    "from stats_utils.regression.plotting import forest_plot, plot_r2s\n",
    "\n",
    "from interactive_avoidance.analysis import run_exploratory_models\n",
    "from interactive_avoidance.data import (\n",
    "    load_all_data,\n",
    "    load_environment_data,\n",
    "    load_factor_scores,\n",
    "    scale_data,\n",
    "    separate_predator_prey_data,\n",
    "    sort_dataframes,\n",
    ")\n",
    "from interactive_avoidance.utils import (\n",
    "    plot_regression,\n",
    "    calculate_and_print_correlations,\n",
    "    check_directories,\n",
    ")\n",
    "from interactive_avoidance.models.action_prediction import fit_prediction_models\n",
    "from interactive_avoidance.style import set_style\n",
    "\n",
    "# Check that we're in the right directory\n",
    "check_directories()\n",
    "\n",
    "set_style(\"style.mplstyle\")"
   ]
  },
  {
   "cell_type": "markdown",
   "metadata": {},
   "source": [
    "## Load in data\n",
    "\n",
    "Here we load in both behavioural and questionnare data. We perform some standardisation on the data and check that it looks as it should\n"
   ]
  },
  {
   "cell_type": "code",
   "execution_count": 4,
   "metadata": {},
   "outputs": [
    {
     "name": "stdout",
     "output_type": "stream",
     "text": [
      "Task n: 1019 subjects\n",
      "Questionnaire n: 1005 subjects\n",
      "Factor scores n: 989 subjects\n"
     ]
    }
   ],
   "source": [
    "# Load in all data\n",
    "(\n",
    "    rating_df,\n",
    "    rt_prey_df,\n",
    "    rt_predator_df,\n",
    "    confidence_df,\n",
    "    prediction_df,\n",
    "    response_df,\n",
    ") = load_all_data()\n",
    "\n",
    "# Separate predator and prey movements\n",
    "prey_df, predator_df = separate_predator_prey_data(response_df)\n",
    "\n",
    "# Sort dataframes to keep things tidy\n",
    "prediction_df, predator_df, prey_df = sort_dataframes(\n",
    "    [prediction_df, predator_df, prey_df]\n",
    ")\n",
    "prediction_df.loc[\n",
    "    predator_df[\"cellID\"] == -999, \"cellID\"\n",
    "] = -999  # Trials where predator caught prey half way through\n",
    "\n",
    "# Recode environments to start from 0\n",
    "prediction_df[\"env\"] = prediction_df[\"env\"] - 1\n",
    "predator_df[\"env\"] = predator_df[\"env\"] - 1\n",
    "prey_df[\"env\"] = prey_df[\"env\"] - 1\n",
    "\n",
    "# Load environment data\n",
    "envs = load_environment_data()\n",
    "\n",
    "# Check that everything looks as it should\n",
    "assert np.all(\n",
    "    prediction_df[\"subjectID\"] == predator_df[\"subjectID\"]\n",
    "), \"Subject ID columns do not match\"\n",
    "assert np.all(\n",
    "    prediction_df[\"condition\"] == predator_df[\"condition\"]\n",
    "), \"Condition columns do not match\"\n",
    "assert np.all(\n",
    "    prediction_df[\"trial\"] == predator_df[\"trial\"]\n",
    "), \"Trial columns do not match\"\n",
    "assert np.all(\n",
    "    prediction_df[\"response_number\"] == predator_df[\"response_number\"]\n",
    "), \"Response number columns do not match\"\n",
    "\n",
    "# Load in factor scores for all solutions\n",
    "factor_scores = load_factor_scores(5)\n",
    "\n",
    "# Load in questionnaire data\n",
    "qdata = pd.read_csv(\n",
    "    \"data/questionnaires/questionnaire_data-reverse_coded-subscales.csv\"\n",
    ")\n",
    "\n",
    "# Attention checks\n",
    "qdata = qdata[qdata[\"attention_check_failed\"] < 1]\n",
    "\n",
    "# Excluding subjects who fail more than one infrequency item check.\n",
    "qdata = qdata[qdata[\"inattentive_incorrect\"] <= 1]\n",
    "\n",
    "# we shouldn't have any duplicate rows, but just in case\n",
    "qdata = qdata.drop_duplicates([\"subjectID\"])\n",
    "\n",
    "# Print the number of subjects\n",
    "print(\"Task n: {0} subjects\".format(prediction_df[\"subjectID\"].nunique()))\n",
    "print(\"Questionnaire n: {0} subjects\".format(qdata[\"subjectID\"].nunique()))\n",
    "print(\"Factor scores n: {0} subjects\".format(factor_scores[\"subjectID\"].nunique()))"
   ]
  },
  {
   "cell_type": "markdown",
   "metadata": {},
   "source": [
    "## Model fitting\n",
    "\n",
    "### Fit the models\n",
    "\n",
    "Next we fit the action prediction models. This fits the following models to the data:\n",
    "\n",
    "1. Policy repetition (_model-free_)\n",
    "2. Policy learning (_model-free_)\n",
    "3. Policy learning with generalisation (_model-free_)\n",
    "4. Goal inference (_model-based_)\n",
    "5. Goal inference + policy repetition (_model-based_)\n",
    "6. Goal inference + policy learning (_model-based_)\n",
    "7. Goal inference + policy learning + generalisation (_model-based_)\n",
    "\n",
    "> ⚠ The fitting procedure can take a while to run. If you wish to skip this part, you can load in the fitted parameter values in the next cell. By default, the fitting code here is set to run in parallel across 96 cores. If you wish to run this on fewer cores, change the `n_jobs` parameter in the `fit_prediction_models` function call below.\n"
   ]
  },
  {
   "cell_type": "code",
   "execution_count": 5,
   "metadata": {},
   "outputs": [
    {
     "name": "stdout",
     "output_type": "stream",
     "text": [
      "Fitting in parallel, 96 jobs\n"
     ]
    },
    {
     "name": "stderr",
     "output_type": "stream",
     "text": [
      "Evaluation:   0%|                                                            | 0/1019 [00:00<?, ?it/s]"
     ]
    },
    {
     "name": "stderr",
     "output_type": "stream",
     "text": [
      "Evaluation: 100%|█████████████████████████████████████████████████| 1019/1019 [11:31<00:00,  1.47it/s]\n"
     ]
    }
   ],
   "source": [
    "# Fit prediction models on the provided data\n",
    "fit, _ = fit_prediction_models(predator_df, prey_df, prediction_df, envs, n_jobs=96)\n",
    "\n",
    "# Format the \"model\" column in the dataframe for better readability\n",
    "fit[\"model\"] = fit[\"model\"].str.replace(\"_\", \"\\n\").str.capitalize()\n",
    "\n",
    "# Save the results to a CSV file\n",
    "# Check if the directory exists, if not, create it\n",
    "if not os.path.isdir(\"results/task/model_fitting\"):\n",
    "    os.mkdir(\"results/task/model_fitting\")\n",
    "\n",
    "# Save the dataframe to a CSV file\n",
    "fit.to_csv(\"results/task/model_fitting/prediction_model_fit_results.csv\", index=None)"
   ]
  },
  {
   "cell_type": "markdown",
   "metadata": {},
   "source": [
    "### ❓ Optional: Load in fitted models\n",
    "\n",
    "If you want to skip the model fitting, you can load in the fitted models here by uncommenting this block.\n"
   ]
  },
  {
   "cell_type": "code",
   "execution_count": 6,
   "metadata": {},
   "outputs": [],
   "source": [
    "# Load in results\n",
    "fit = pd.read_csv(\"results/task/model_fitting/prediction_model_fit_results.csv\")"
   ]
  },
  {
   "cell_type": "markdown",
   "metadata": {},
   "source": [
    "### Get best fitting models\n",
    "\n",
    "We want to determine the best fitting model for each participant. We then get the mean across subjects to determine the best fitting model overall.\n"
   ]
  },
  {
   "cell_type": "code",
   "execution_count": 7,
   "metadata": {},
   "outputs": [
    {
     "name": "stderr",
     "output_type": "stream",
     "text": [
      "/tmp/ipykernel_1341/3230820438.py:2: FutureWarning: The default value of numeric_only in DataFrameGroupBy.sum is deprecated. In a future version, numeric_only will default to False. Either specify numeric_only or select only columns which should be valid for the function.\n",
      "  subject_fit = fit.groupby([\"subjectID\", \"model\"]).sum().reset_index()\n",
      "/tmp/ipykernel_1341/3230820438.py:5: FutureWarning: The default value of numeric_only in DataFrameGroupBy.mean is deprecated. In a future version, numeric_only will default to False. Either specify numeric_only or select only columns which should be valid for the function.\n",
      "  BIC_mean = subject_fit.groupby([\"model\"]).mean().reset_index()\n"
     ]
    }
   ],
   "source": [
    "# Group the fit data by subjectID and model, then aggregate with sum and reset the index\n",
    "subject_fit = fit.groupby([\"subjectID\", \"model\"]).sum().reset_index()\n",
    "\n",
    "# Compute the mean of the BIC values for each model and reset the index\n",
    "BIC_mean = subject_fit.groupby([\"model\"]).mean(numeric_only=True).reset_index()"
   ]
  },
  {
   "cell_type": "markdown",
   "metadata": {},
   "source": [
    "### Best fitting model\n",
    "\n",
    "Here we print out the best fitting model.\n"
   ]
  },
  {
   "cell_type": "code",
   "execution_count": 8,
   "metadata": {},
   "outputs": [
    {
     "data": {
      "text/html": [
       "<div>\n",
       "<style scoped>\n",
       "    .dataframe tbody tr th:only-of-type {\n",
       "        vertical-align: middle;\n",
       "    }\n",
       "\n",
       "    .dataframe tbody tr th {\n",
       "        vertical-align: top;\n",
       "    }\n",
       "\n",
       "    .dataframe thead th {\n",
       "        text-align: right;\n",
       "    }\n",
       "</style>\n",
       "<table border=\"1\" class=\"dataframe\">\n",
       "  <thead>\n",
       "    <tr style=\"text-align: right;\">\n",
       "      <th></th>\n",
       "      <th>model</th>\n",
       "      <th>accuracy</th>\n",
       "      <th>log_lik</th>\n",
       "      <th>BIC</th>\n",
       "      <th>alpha_values</th>\n",
       "      <th>w_values</th>\n",
       "    </tr>\n",
       "  </thead>\n",
       "  <tbody>\n",
       "    <tr>\n",
       "      <th>0</th>\n",
       "      <td>Combined\\ngeneralisation</td>\n",
       "      <td>0.504126</td>\n",
       "      <td>-86.943727</td>\n",
       "      <td>182.646506</td>\n",
       "      <td>0.257613</td>\n",
       "      <td>0.215684</td>\n",
       "    </tr>\n",
       "  </tbody>\n",
       "</table>\n",
       "</div>"
      ],
      "text/plain": [
       "                      model  accuracy    log_lik         BIC  alpha_values  \\\n",
       "0  Combined\\ngeneralisation  0.504126 -86.943727  182.646506      0.257613   \n",
       "\n",
       "   w_values  \n",
       "0  0.215684  "
      ]
     },
     "execution_count": 8,
     "metadata": {},
     "output_type": "execute_result"
    }
   ],
   "source": [
    "BIC_mean[BIC_mean[\"BIC\"] == BIC_mean[\"BIC\"].min()]"
   ]
  },
  {
   "cell_type": "markdown",
   "metadata": {},
   "source": [
    "### Plot BIC\n",
    "\n",
    "Next we plot the BIC values for each model as a bar plot, with the BIC values for each subject plotted as points.\n"
   ]
  },
  {
   "cell_type": "code",
   "execution_count": 9,
   "metadata": {},
   "outputs": [
    {
     "name": "stderr",
     "output_type": "stream",
     "text": [
      "/tmp/ipykernel_1341/4096488084.py:17: FutureWarning: Passing `palette` without assigning `hue` is deprecated.\n",
      "  sns.stripplot(\n"
     ]
    },
    {
     "data": {
      "image/png": "[encoded data removed]",
      "text/plain": [
       "<Figure size 400x240 with 1 Axes>"
      ]
     },
     "metadata": {},
     "output_type": "display_data"
    }
   ],
   "source": [
    "# Extract the default color palette\n",
    "pal = plt.rcParams[\"axes.prop_cycle\"].by_key()[\"color\"]\n",
    "\n",
    "# Initialize an array with a default color for each model in BIC_mean\n",
    "colours = np.array([pal[0]] * len(BIC_mean))\n",
    "\n",
    "# Change the color of the model with the lowest BIC to a highlight color\n",
    "colours[np.argmin(BIC_mean[\"BIC\"])] = pal[1]\n",
    "\n",
    "# Convert the numpy array back to a list\n",
    "colours = list(colours)\n",
    "\n",
    "# Create a figure and axis\n",
    "f, ax = plt.subplots(1, 1, figsize=(5, 3))\n",
    "\n",
    "# Plot individual subject BIC values as strip plot\n",
    "sns.stripplot(\n",
    "    x=\"model\",\n",
    "    y=\"BIC\",\n",
    "    data=subject_fit,\n",
    "    dodge=False,\n",
    "    alpha=0.3,\n",
    "    ax=ax,\n",
    "    palette=colours,\n",
    "    zorder=-1,\n",
    "    s=3,\n",
    ")\n",
    "\n",
    "# Plot mean BIC values as bar plot\n",
    "sns.barplot(\n",
    "    x=\"model\",\n",
    "    y=\"BIC\",\n",
    "    data=subject_fit,\n",
    "    alpha=0.5,\n",
    "    capsize=0.05,\n",
    "    errwidth=0.8,\n",
    "    ax=ax,\n",
    "    palette=colours,\n",
    "    linewidth=0.8,\n",
    "    edgecolor=\"black\",\n",
    ")\n",
    "\n",
    "# Rotate x tick labels for better visibility\n",
    "plt.xticks(rotation=45)\n",
    "\n",
    "# Set axis labels\n",
    "ax.set_xlabel(\"Model\")\n",
    "ax.set_ylabel(\"BIC\\n(lower = better fit)\")\n",
    "\n",
    "# Update X tick labels with more descriptive names\n",
    "model_display_names = [\n",
    "    \"Comb. gen.\",\n",
    "    \"Comb. learn.\",\n",
    "    \"Comb. rep.\",\n",
    "    \"Goal inf.\",\n",
    "    \"Policy gen.\",\n",
    "    \"Policy learn.\",\n",
    "    \"Repetition\",\n",
    "]\n",
    "model_display_names = [i.replace(\" \", \"\\n\") for i in model_display_names]\n",
    "ax.set_xticklabels(model_display_names)\n",
    "\n",
    "# Despine for aesthetics and adjust layout\n",
    "sns.despine()\n",
    "plt.tight_layout()\n",
    "\n",
    "# Save\n",
    "# plt.savefig('../../figures/Figure-3_model_fit.svg')"
   ]
  },
  {
   "cell_type": "markdown",
   "metadata": {},
   "source": [
    "### Get the best fitting model for each subject\n",
    "\n",
    "Now we have a measure of model fit for each model and subject, but we ideally want to know which is the best fitting model for each subject.\n"
   ]
  },
  {
   "cell_type": "code",
   "execution_count": 10,
   "metadata": {},
   "outputs": [
    {
     "name": "stderr",
     "output_type": "stream",
     "text": [
      "/tmp/ipykernel_1341/130533457.py:22: FutureWarning: The default value of numeric_only in DataFrameGroupBy.mean is deprecated. In a future version, numeric_only will default to False. Either specify numeric_only or select only columns which should be valid for the function.\n",
      "  best_model_params = fit.groupby([\"subjectID\", \"model\"]).mean().reset_index()\n"
     ]
    }
   ],
   "source": [
    "# Initialize a dictionary to store each subject's best model based on BIC\n",
    "subject_best_models = {\"subjectID\": [], \"best_model\": []}\n",
    "\n",
    "# Loop through each unique subject\n",
    "for sub in subject_fit[\"subjectID\"].unique():\n",
    "    # Filter the dataframe for the current subject\n",
    "    sub_df = subject_fit[subject_fit[\"subjectID\"] == sub]\n",
    "\n",
    "    # Append the subject ID to the dictionary\n",
    "    subject_best_models[\"subjectID\"].append(sub)\n",
    "\n",
    "    # Identify and append the best model for the current subject based on BIC\n",
    "    subject_best_models[\"best_model\"].append(sub_df.iloc[sub_df[\"BIC\"].argmin()].model)\n",
    "\n",
    "# Convert the dictionary to a DataFrame and sort by best_model\n",
    "subject_best_models = pd.DataFrame(subject_best_models).sort_values(\"best_model\")\n",
    "\n",
    "# Identify the best model based on the minimum BIC value\n",
    "best_model = BIC_mean[BIC_mean[\"BIC\"] == BIC_mean[\"BIC\"].min()][\"model\"].values[0]\n",
    "\n",
    "# Calculate mean parameters for each subject and model combination\n",
    "best_model_params = (\n",
    "    fit.groupby([\"subjectID\", \"model\"]).mean(numeric_only=True).reset_index()\n",
    ")\n",
    "\n",
    "# Filter the data for the identified best model\n",
    "best_model_params = best_model_params[best_model_params[\"model\"] == best_model]\n",
    "\n",
    "# Adjust the 'w_values' column (higher value indicates more model-based behavior)\n",
    "best_model_params[\"w_values\"] = 1 - best_model_params[\"w_values\"]\n",
    "\n",
    "# Reshape the DataFrame from wide to long format, focusing on 'alpha_values' and 'w_values'\n",
    "best_model_params_long = best_model_params.melt(\n",
    "    \"subjectID\", [\"alpha_values\", \"w_values\"]\n",
    ")"
   ]
  },
  {
   "cell_type": "markdown",
   "metadata": {},
   "source": [
    "### Plot parameters from the best fitting model\n",
    "\n",
    "The best fitting model combines both model-based (goal inference) and model-free (policy learning) components. We can plot the parameters from this model ($\\alpha$ = policy learning rate; $W$ = model-based/model-free weighting) to see how they vary across subjects.\n"
   ]
  },
  {
   "cell_type": "code",
   "execution_count": 11,
   "metadata": {},
   "outputs": [
    {
     "name": "stderr",
     "output_type": "stream",
     "text": [
      "/tmp/ipykernel_1341/4181297025.py:5: FutureWarning: Passing `palette` without assigning `hue` is deprecated.\n",
      "  sns.stripplot(\n"
     ]
    },
    {
     "data": {
      "image/png": "[encoded data removed]",
      "text/plain": [
       "<Figure size 200x176 with 1 Axes>"
      ]
     },
     "metadata": {},
     "output_type": "display_data"
    }
   ],
   "source": [
    "# Set up the figure with a specified size\n",
    "plt.figure(figsize=(2.5, 2.2))\n",
    "\n",
    "# Display a strip plot showing individual parameter values with reduced opacity\n",
    "sns.stripplot(\n",
    "    x=\"variable\",\n",
    "    y=\"value\",\n",
    "    data=best_model_params_long,\n",
    "    alpha=0.3,\n",
    "    zorder=-1,\n",
    "    size=3,\n",
    "    palette=[\"#2782e3\", \"#d12869\"],\n",
    ")\n",
    "\n",
    "# Overlay with a box plot showing parameter value distribution\n",
    "ax = sns.boxplot(\n",
    "    x=\"variable\",\n",
    "    y=\"value\",\n",
    "    data=best_model_params_long,\n",
    "    width=0.4,\n",
    "    fliersize=0,\n",
    "    zorder=100,\n",
    "    palette=[\"#2782e3\", \"#d12869\"],\n",
    ")\n",
    "\n",
    "# Adjust the boxplot's transparency\n",
    "for patch in ax.patches:\n",
    "    r, g, b, a = patch.get_facecolor()\n",
    "    patch.set_facecolor((r, g, b, 0.5))\n",
    "\n",
    "# Set custom labels for x-axis ticks\n",
    "ax.set_xticklabels([r\"$\\alpha$\", \"$W$\"])\n",
    "\n",
    "# Set x and y axis labels\n",
    "ax.set_xlabel(\"Parameter\")\n",
    "ax.set_ylabel(\"Estimated value\")\n",
    "\n",
    "# Remove top and right borders of the plot for aesthetics\n",
    "sns.despine()\n",
    "\n",
    "# Adjust the plot layout\n",
    "plt.tight_layout()\n",
    "\n",
    "# Save\n",
    "# plt.savefig('../../figures/Figure-3_param_values.svg')"
   ]
  },
  {
   "cell_type": "markdown",
   "metadata": {},
   "source": [
    "### Calculate relative model fit\n",
    "\n",
    "It can be helpful to use _relativey_ model fit rather than absolute model fit, as absolute fit can be influenced by general noise in the data rather than a specific model's fit. We therefore calculate the relative model fit for each model and subject, comparing:\n",
    "\n",
    "1. Goal inference vs. policy learning - gives an idea of how model based the participant is\n",
    "2. Combined generalisation vs. goal inference - gives an idea of the extent to which someone is using the combination of policy learning with generalisation and goal inference versus pure goal inference.\n"
   ]
  },
  {
   "cell_type": "code",
   "execution_count": 12,
   "metadata": {},
   "outputs": [],
   "source": [
    "# Calculate the relative BIC difference between Policy generalisation and the combined generalisation model\n",
    "relative_BIC = (\n",
    "    subject_fit[subject_fit[\"model\"] == \"Policy\\ngeneralisation\"]\n",
    "    .sort_values(\"subjectID\")[\"BIC\"]\n",
    "    .values\n",
    "    - subject_fit[subject_fit[\"model\"] == \"Combined\\ngeneralisation\"]\n",
    "    .sort_values(\"subjectID\")[\"BIC\"]\n",
    "    .values\n",
    ")\n",
    "# Assign the calculated difference to the 'relative_BIC' column\n",
    "best_model_params[\"relative_BIC\"] = relative_BIC\n",
    "\n",
    "# Define a list of parameter names for further processing\n",
    "parameter_names = [\n",
    "    \"relative_BIC\",\n",
    "    \"w_values\",\n",
    "]"
   ]
  },
  {
   "cell_type": "markdown",
   "metadata": {},
   "source": [
    "### Merge the model-fitting data with the questionnaire data\n",
    "\n",
    "Next we combine the parameter estimates and model fit statistics for each subject with the questionnaire data.\n"
   ]
  },
  {
   "cell_type": "code",
   "execution_count": 13,
   "metadata": {},
   "outputs": [
    {
     "name": "stderr",
     "output_type": "stream",
     "text": [
      "/tmp/ipykernel_1341/2307827718.py:27: FutureWarning: The default value of numeric_only in DataFrame.mean is deprecated. In a future version, it will default to False. In addition, specifying 'numeric_only=None' is deprecated. Select only valid columns or specify the value of numeric_only to silence this warning.\n",
      "  parameters_mh_measures_scaled[col] - parameters_mh_measures_scaled[col].mean()\n",
      "/tmp/ipykernel_1341/2307827718.py:28: FutureWarning: The default value of numeric_only in DataFrame.std is deprecated. In a future version, it will default to False. In addition, specifying 'numeric_only=None' is deprecated. Select only valid columns or specify the value of numeric_only to silence this warning.\n",
      "  ) / parameters_mh_measures_scaled[col].std()\n"
     ]
    }
   ],
   "source": [
    "# merge factor scores with parameter estimates\n",
    "parameters_mh_measures = pd.merge(best_model_params, factor_scores, on=\"subjectID\")\n",
    "\n",
    "# merge with qdata\n",
    "parameters_mh_measures = pd.merge(\n",
    "    parameters_mh_measures, qdata.drop(columns=[\"age\", \"gender\"]), on=\"subjectID\"\n",
    ")\n",
    "\n",
    "# Merge in prediction confidence\n",
    "prediction_confidence = pd.read_csv(\"results/task/prediction_confidence.csv\")\n",
    "parameters_mh_measures = pd.merge(\n",
    "    prediction_confidence[[\"subjectID\", \"p_correct\", \"confidence\", \"p_correct_raw\"]],\n",
    "    parameters_mh_measures,\n",
    "    on=\"subjectID\",\n",
    ")\n",
    "\n",
    "# Cube transform the W parameter values because they're very skewed\n",
    "parameters_mh_measures_scaled = parameters_mh_measures.copy()\n",
    "parameters_mh_measures_scaled[\"w_values\"] = (\n",
    "    parameters_mh_measures_scaled[\"w_values\"] ** 3\n",
    ")\n",
    "\n",
    "# Scale columns to have 0 mean and 1 SD without using scale_data\n",
    "for col in parameters_mh_measures_scaled.columns:\n",
    "    if col not in [\"subjectID\", \"model\", \"gender\"]:\n",
    "        parameters_mh_measures_scaled[col] = (\n",
    "            parameters_mh_measures_scaled[col]\n",
    "            - parameters_mh_measures_scaled[col].mean(numeric_only=True)\n",
    "        ) / parameters_mh_measures_scaled[col].std(numeric_only=True)"
   ]
  },
  {
   "cell_type": "code",
   "execution_count": 14,
   "metadata": {},
   "outputs": [
    {
     "name": "stdout",
     "output_type": "stream",
     "text": [
      "W (Pearson): r = 0.41, p = 0.000\n",
      "W (Spearman): rho = 0.40, p = 0.000\n",
      "Delta BIC (Pearson): r = 0.42, p = 0.000\n",
      "Delta BIC (Spearman): rho = 0.42, p = 0.000\n"
     ]
    },
    {
     "data": {
      "image/png": "[encoded data removed]",
      "text/plain": [
       "<Figure size 272x144 with 2 Axes>"
      ]
     },
     "metadata": {},
     "output_type": "display_data"
    }
   ],
   "source": [
    "# Create a 1x2 subplot grid with specified size\n",
    "f, ax = plt.subplots(1, 2, figsize=(3.4, 1.8))\n",
    "\n",
    "# Plot regressions\n",
    "plot_regression(\n",
    "    ax[0],\n",
    "    parameters_mh_measures,\n",
    "    \"w_values\",\n",
    "    \"p_correct_raw\",\n",
    "    \"W\",\n",
    "    \"Proportion\\ncorrect\",\n",
    ")\n",
    "plot_regression(\n",
    "    ax[1], parameters_mh_measures, \"relative_BIC\", \"p_correct_raw\", r\"$\\Delta$ BIC\"\n",
    ")\n",
    "\n",
    "# Remove the top and right spines for a cleaner look\n",
    "sns.despine()\n",
    "\n",
    "# Calculate and print correlations\n",
    "calculate_and_print_correlations(parameters_mh_measures, \"w_values\", \"p_correct\", \"W\")\n",
    "calculate_and_print_correlations(\n",
    "    parameters_mh_measures, \"relative_BIC\", \"p_correct\", \"Delta BIC\"\n",
    ")\n",
    "\n",
    "# Adjust layout to ensure subplots do not overlap\n",
    "plt.tight_layout()"
   ]
  },
  {
   "cell_type": "markdown",
   "metadata": {},
   "source": [
    "## Associations between model fit and questionnaire scores\n",
    "\n",
    "### Run sequential regressions\n",
    "\n",
    "Finally, we look at the associations between model fit and questionnaire scores. We focus on indices of \"model-basedness\":\n",
    "\n",
    "1. The relative model fit between goal inference + policy learning with generalisation (the winning model) and policy learning with generalisation alone (i.e., with no model-based component).\n",
    "2. The value of the $W$ parameter in the winning model, which determines the relative weighting of model-based and model-free components.\n",
    "\n",
    "Here we run sequential regression models to determine how much variance in our behavioural measures is explained when we add lower-level symptom dimensions.\n"
   ]
  },
  {
   "cell_type": "code",
   "execution_count": 15,
   "metadata": {},
   "outputs": [
    {
     "data": {
      "image/png": "[encoded data removed]",
      "text/plain": [
       "<Figure size 320x176 with 2 Axes>"
      ]
     },
     "metadata": {},
     "output_type": "display_data"
    }
   ],
   "source": [
    "# Define parameter display names for plotting\n",
    "param_display_names = [\"Relative BIC\", \"MB weight\"]\n",
    "\n",
    "# Initialize a dictionary to store model outputs\n",
    "model_outputs = {}\n",
    "\n",
    "# Run sequential regression for each parameter and store the results in `model_outputs`\n",
    "for p in parameter_names:\n",
    "    model_outputs[p] = sequential_regression(\n",
    "        parameters_mh_measures_scaled,\n",
    "        p,\n",
    "        n_solutions=4,\n",
    "        covariates=[\"age\", \"gender\", \"motivation\"],\n",
    "        n_bootstraps=10000,\n",
    "    )\n",
    "\n",
    "# Create a subplot layout based on the number of parameters\n",
    "f, ax = plt.subplots(1, len(parameter_names), figsize=(2 * len(parameter_names), 2.2))\n",
    "\n",
    "# Plot the R^2 values for each parameter\n",
    "for i, p in enumerate(parameter_names):\n",
    "    plot_r2s(\n",
    "        model_outputs[p], ax=ax[i], show_ylabel=i == 0\n",
    "    )  # Only show y-axis label for the first subplot\n",
    "    ax[i].set_title(\n",
    "        param_display_names[i]\n",
    "    )  # Set the title based on parameter display names\n",
    "\n",
    "# Remove top and right spines for a cleaner look\n",
    "sns.despine()\n",
    "\n",
    "# Save\n",
    "plt.savefig(\"figures/action_prediction_model_r2.svg\", bbox_inches=\"tight\")"
   ]
  },
  {
   "cell_type": "markdown",
   "metadata": {},
   "source": [
    "### Look at the coefficients from the model\n",
    "\n",
    "Finally, we plot the coefficients from the model to see which symptom dimensions are associated with model-basedness.\n"
   ]
  },
  {
   "cell_type": "code",
   "execution_count": 16,
   "metadata": {},
   "outputs": [
    {
     "data": {
      "image/png": "[encoded data removed]",
      "text/plain": [
       "<Figure size 288x204 with 2 Axes>"
      ]
     },
     "metadata": {},
     "output_type": "display_data"
    }
   ],
   "source": [
    "# Display names\n",
    "param_display_names = [\"Relative BIC\", \"MB weight\"]\n",
    "\n",
    "factor_name_dict = {\n",
    "    \"Sol4_ML1\": \"Int.\",\n",
    "    \"Sol4_ML2\": \"Ext.\",\n",
    "    \"Sol4_ML3\": \"Withdr.\",\n",
    "    \"Sol4_ML4\": \"Inatt.\",\n",
    "}\n",
    "\n",
    "f, ax = plt.subplots(\n",
    "    1,\n",
    "    len(parameter_names),\n",
    "    figsize=(1.8 * len(parameter_names), 2.55),\n",
    "    gridspec_kw={\"width_ratios\": [2, 2]},\n",
    ")\n",
    "\n",
    "for i, p in enumerate(parameter_names):\n",
    "    # plot the coefficients for each model, using the best number of components\n",
    "    r2_change = model_outputs[p].anova_results[\"Pr(>F)\"] < 0.05\n",
    "\n",
    "    if np.any(r2_change):\n",
    "        model_idx = np.where(model_outputs[p].anova_results[\"Pr(>F)\"] < 0.05)[0][-1]\n",
    "        forest_plot(\n",
    "            model_outputs[p].models[model_idx],\n",
    "            ax=ax[i],\n",
    "            rename_dict=factor_name_dict,\n",
    "            exclude_param_names=[\"age\", \"gender\", \"motivation\"],\n",
    "        )\n",
    "    else:\n",
    "        forest_plot(model_outputs[p].models[0], ax=ax[i])\n",
    "\n",
    "    # make sure all plots have the same y-axis limits\n",
    "    ax[i].set_ylim([-0.4, 0.4])\n",
    "\n",
    "    # Set title\n",
    "    ax[i].set_title(param_display_names[i])\n",
    "\n",
    "    # Remove Y axis label for all but the first plot\n",
    "    if i > 0:\n",
    "        ax[i].set_ylabel(\"\")\n",
    "\n",
    "plt.tight_layout()\n",
    "\n",
    "# Save\n",
    "plt.savefig(\"figures/action_prediction_model_forest.svg\", bbox_inches=\"tight\")"
   ]
  },
  {
   "cell_type": "markdown",
   "metadata": {},
   "source": [
    "### Exploratory analyses\n",
    "\n",
    "We also run some exploratory analyses to see whether the model-basedness measures are associated with other symptom measures, correcting for multiple comparisons across all of the measures.\n"
   ]
  },
  {
   "cell_type": "code",
   "execution_count": 17,
   "metadata": {},
   "outputs": [
    {
     "data": {
      "text/html": [
       "<div>\n",
       "<style scoped>\n",
       "    .dataframe tbody tr th:only-of-type {\n",
       "        vertical-align: middle;\n",
       "    }\n",
       "\n",
       "    .dataframe tbody tr th {\n",
       "        vertical-align: top;\n",
       "    }\n",
       "\n",
       "    .dataframe thead th {\n",
       "        text-align: right;\n",
       "    }\n",
       "</style>\n",
       "<table border=\"1\" class=\"dataframe\">\n",
       "  <thead>\n",
       "    <tr style=\"text-align: right;\">\n",
       "      <th></th>\n",
       "      <th>parameter</th>\n",
       "      <th>measure</th>\n",
       "      <th>t</th>\n",
       "      <th>df</th>\n",
       "      <th>p</th>\n",
       "      <th>p_fdr</th>\n",
       "    </tr>\n",
       "  </thead>\n",
       "  <tbody>\n",
       "    <tr>\n",
       "      <th>0</th>\n",
       "      <td>relative_BIC</td>\n",
       "      <td>AQ_10</td>\n",
       "      <td>1.889151</td>\n",
       "      <td>978.0</td>\n",
       "      <td>0.075</td>\n",
       "      <td>0.440000</td>\n",
       "    </tr>\n",
       "    <tr>\n",
       "      <th>1</th>\n",
       "      <td>relative_BIC</td>\n",
       "      <td>STICSA_T</td>\n",
       "      <td>-0.603985</td>\n",
       "      <td>978.0</td>\n",
       "      <td>0.554</td>\n",
       "      <td>0.923333</td>\n",
       "    </tr>\n",
       "    <tr>\n",
       "      <th>2</th>\n",
       "      <td>relative_BIC</td>\n",
       "      <td>LSAS</td>\n",
       "      <td>-0.028879</td>\n",
       "      <td>978.0</td>\n",
       "      <td>1.000</td>\n",
       "      <td>1.000000</td>\n",
       "    </tr>\n",
       "    <tr>\n",
       "      <th>3</th>\n",
       "      <td>relative_BIC</td>\n",
       "      <td>PHQ_8</td>\n",
       "      <td>-0.824228</td>\n",
       "      <td>606.0</td>\n",
       "      <td>0.422</td>\n",
       "      <td>0.844000</td>\n",
       "    </tr>\n",
       "    <tr>\n",
       "      <th>4</th>\n",
       "      <td>relative_BIC</td>\n",
       "      <td>GAD_7</td>\n",
       "      <td>-1.856365</td>\n",
       "      <td>605.0</td>\n",
       "      <td>0.088</td>\n",
       "      <td>0.440000</td>\n",
       "    </tr>\n",
       "    <tr>\n",
       "      <th>5</th>\n",
       "      <td>w_values</td>\n",
       "      <td>AQ_10</td>\n",
       "      <td>1.123431</td>\n",
       "      <td>978.0</td>\n",
       "      <td>0.254</td>\n",
       "      <td>0.787500</td>\n",
       "    </tr>\n",
       "    <tr>\n",
       "      <th>6</th>\n",
       "      <td>w_values</td>\n",
       "      <td>STICSA_T</td>\n",
       "      <td>0.066786</td>\n",
       "      <td>978.0</td>\n",
       "      <td>0.922</td>\n",
       "      <td>1.000000</td>\n",
       "    </tr>\n",
       "    <tr>\n",
       "      <th>7</th>\n",
       "      <td>w_values</td>\n",
       "      <td>LSAS</td>\n",
       "      <td>-0.036846</td>\n",
       "      <td>978.0</td>\n",
       "      <td>0.946</td>\n",
       "      <td>1.000000</td>\n",
       "    </tr>\n",
       "    <tr>\n",
       "      <th>8</th>\n",
       "      <td>w_values</td>\n",
       "      <td>PHQ_8</td>\n",
       "      <td>-0.266136</td>\n",
       "      <td>606.0</td>\n",
       "      <td>0.832</td>\n",
       "      <td>1.000000</td>\n",
       "    </tr>\n",
       "    <tr>\n",
       "      <th>9</th>\n",
       "      <td>w_values</td>\n",
       "      <td>GAD_7</td>\n",
       "      <td>-1.097632</td>\n",
       "      <td>605.0</td>\n",
       "      <td>0.315</td>\n",
       "      <td>0.787500</td>\n",
       "    </tr>\n",
       "  </tbody>\n",
       "</table>\n",
       "</div>"
      ],
      "text/plain": [
       "      parameter   measure         t     df      p     p_fdr\n",
       "0  relative_BIC     AQ_10  1.889151  978.0  0.075  0.440000\n",
       "1  relative_BIC  STICSA_T -0.603985  978.0  0.554  0.923333\n",
       "2  relative_BIC      LSAS -0.028879  978.0  1.000  1.000000\n",
       "3  relative_BIC     PHQ_8 -0.824228  606.0  0.422  0.844000\n",
       "4  relative_BIC     GAD_7 -1.856365  605.0  0.088  0.440000\n",
       "5      w_values     AQ_10  1.123431  978.0  0.254  0.787500\n",
       "6      w_values  STICSA_T  0.066786  978.0  0.922  1.000000\n",
       "7      w_values      LSAS -0.036846  978.0  0.946  1.000000\n",
       "8      w_values     PHQ_8 -0.266136  606.0  0.832  1.000000\n",
       "9      w_values     GAD_7 -1.097632  605.0  0.315  0.787500"
      ]
     },
     "execution_count": 17,
     "metadata": {},
     "output_type": "execute_result"
    }
   ],
   "source": [
    "parameters_exploratory = run_exploratory_models(parameter_names, parameters_mh_measures)\n",
    "parameters_exploratory"
   ]
  },
  {
   "cell_type": "markdown",
   "metadata": {},
   "source": [
    "## Mediation analysis\n",
    "\n",
    "Finally, we run a mediation analysis to see whether the association between symptom dimensions and prediction accuracy is mediated by the tendency to use a model-based strategy in the task.\n",
    "\n",
    "### W parameter as mediator\n"
   ]
  },
  {
   "cell_type": "code",
   "execution_count": 31,
   "metadata": {},
   "outputs": [
    {
     "data": {
      "text/html": [
       "<div>\n",
       "<style scoped>\n",
       "    .dataframe tbody tr th:only-of-type {\n",
       "        vertical-align: middle;\n",
       "    }\n",
       "\n",
       "    .dataframe tbody tr th {\n",
       "        vertical-align: top;\n",
       "    }\n",
       "\n",
       "    .dataframe thead th {\n",
       "        text-align: right;\n",
       "    }\n",
       "</style>\n",
       "<table border=\"1\" class=\"dataframe\">\n",
       "  <thead>\n",
       "    <tr style=\"text-align: right;\">\n",
       "      <th></th>\n",
       "      <th>path</th>\n",
       "      <th>coef</th>\n",
       "      <th>se</th>\n",
       "      <th>pval</th>\n",
       "      <th>CI[2.5%]</th>\n",
       "      <th>CI[97.5%]</th>\n",
       "      <th>sig</th>\n",
       "    </tr>\n",
       "  </thead>\n",
       "  <tbody>\n",
       "    <tr>\n",
       "      <th>0</th>\n",
       "      <td>w_values ~ X</td>\n",
       "      <td>0.185897</td>\n",
       "      <td>0.040033</td>\n",
       "      <td>3.891358e-06</td>\n",
       "      <td>0.107337</td>\n",
       "      <td>0.264457</td>\n",
       "      <td>Yes</td>\n",
       "    </tr>\n",
       "    <tr>\n",
       "      <th>1</th>\n",
       "      <td>Y ~ w_values</td>\n",
       "      <td>0.388806</td>\n",
       "      <td>0.029558</td>\n",
       "      <td>1.689185e-36</td>\n",
       "      <td>0.330802</td>\n",
       "      <td>0.446810</td>\n",
       "      <td>Yes</td>\n",
       "    </tr>\n",
       "    <tr>\n",
       "      <th>2</th>\n",
       "      <td>Total</td>\n",
       "      <td>0.193216</td>\n",
       "      <td>0.040058</td>\n",
       "      <td>1.636559e-06</td>\n",
       "      <td>0.114607</td>\n",
       "      <td>0.271826</td>\n",
       "      <td>Yes</td>\n",
       "    </tr>\n",
       "    <tr>\n",
       "      <th>3</th>\n",
       "      <td>Direct</td>\n",
       "      <td>0.123613</td>\n",
       "      <td>0.037576</td>\n",
       "      <td>1.038877e-03</td>\n",
       "      <td>0.049874</td>\n",
       "      <td>0.197352</td>\n",
       "      <td>Yes</td>\n",
       "    </tr>\n",
       "    <tr>\n",
       "      <th>4</th>\n",
       "      <td>Indirect</td>\n",
       "      <td>0.069603</td>\n",
       "      <td>0.016722</td>\n",
       "      <td>0.000000e+00</td>\n",
       "      <td>0.038411</td>\n",
       "      <td>0.104355</td>\n",
       "      <td>Yes</td>\n",
       "    </tr>\n",
       "  </tbody>\n",
       "</table>\n",
       "</div>"
      ],
      "text/plain": [
       "           path      coef        se          pval  CI[2.5%]  CI[97.5%]  sig\n",
       "0  w_values ~ X  0.185897  0.040033  3.891358e-06  0.107337   0.264457  Yes\n",
       "1  Y ~ w_values  0.388806  0.029558  1.689185e-36  0.330802   0.446810  Yes\n",
       "2         Total  0.193216  0.040058  1.636559e-06  0.114607   0.271826  Yes\n",
       "3        Direct  0.123613  0.037576  1.038877e-03  0.049874   0.197352  Yes\n",
       "4      Indirect  0.069603  0.016722  0.000000e+00  0.038411   0.104355  Yes"
      ]
     },
     "execution_count": 31,
     "metadata": {},
     "output_type": "execute_result"
    }
   ],
   "source": [
    "# Set up covariates\n",
    "covar = [\"Sol4_ML1\", \"Sol4_ML2\", \"Sol4_ML3\", \"age\", \"gender\", \"motivation\"]\n",
    "\n",
    "# Run the model\n",
    "mediation_analysis(\n",
    "    data=parameters_mh_measures_scaled,\n",
    "    x=\"Sol4_ML4\",\n",
    "    m=[\"w_values\"],\n",
    "    y=\"p_correct\",\n",
    "    covar=covar,\n",
    "    alpha=0.05,\n",
    "    seed=42,\n",
    "    n_boot=10000,\n",
    ")"
   ]
  },
  {
   "cell_type": "markdown",
   "metadata": {},
   "source": [
    "The indirect is significant, indicating that the association between symptom dimensions and prediction accuracy is mediated by the tendency to use a model-based strategy in the task. However, the direct effect is also significant, indicating that the association is not fully mediated by model-basedness.\n"
   ]
  },
  {
   "cell_type": "markdown",
   "metadata": {},
   "source": [
    "### Relative model fit as mediator\n"
   ]
  },
  {
   "cell_type": "code",
   "execution_count": 32,
   "metadata": {},
   "outputs": [
    {
     "data": {
      "text/html": [
       "<div>\n",
       "<style scoped>\n",
       "    .dataframe tbody tr th:only-of-type {\n",
       "        vertical-align: middle;\n",
       "    }\n",
       "\n",
       "    .dataframe tbody tr th {\n",
       "        vertical-align: top;\n",
       "    }\n",
       "\n",
       "    .dataframe thead th {\n",
       "        text-align: right;\n",
       "    }\n",
       "</style>\n",
       "<table border=\"1\" class=\"dataframe\">\n",
       "  <thead>\n",
       "    <tr style=\"text-align: right;\">\n",
       "      <th></th>\n",
       "      <th>path</th>\n",
       "      <th>coef</th>\n",
       "      <th>se</th>\n",
       "      <th>pval</th>\n",
       "      <th>CI[2.5%]</th>\n",
       "      <th>CI[97.5%]</th>\n",
       "      <th>sig</th>\n",
       "    </tr>\n",
       "  </thead>\n",
       "  <tbody>\n",
       "    <tr>\n",
       "      <th>0</th>\n",
       "      <td>relative_BIC ~ X</td>\n",
       "      <td>0.204644</td>\n",
       "      <td>0.039904</td>\n",
       "      <td>3.523939e-07</td>\n",
       "      <td>0.126337</td>\n",
       "      <td>0.282952</td>\n",
       "      <td>Yes</td>\n",
       "    </tr>\n",
       "    <tr>\n",
       "      <th>1</th>\n",
       "      <td>Y ~ relative_BIC</td>\n",
       "      <td>0.396074</td>\n",
       "      <td>0.029488</td>\n",
       "      <td>7.308966e-38</td>\n",
       "      <td>0.338207</td>\n",
       "      <td>0.453941</td>\n",
       "      <td>Yes</td>\n",
       "    </tr>\n",
       "    <tr>\n",
       "      <th>2</th>\n",
       "      <td>Total</td>\n",
       "      <td>0.193216</td>\n",
       "      <td>0.040058</td>\n",
       "      <td>1.636559e-06</td>\n",
       "      <td>0.114607</td>\n",
       "      <td>0.271826</td>\n",
       "      <td>Yes</td>\n",
       "    </tr>\n",
       "    <tr>\n",
       "      <th>3</th>\n",
       "      <td>Direct</td>\n",
       "      <td>0.115188</td>\n",
       "      <td>0.037572</td>\n",
       "      <td>2.230617e-03</td>\n",
       "      <td>0.041457</td>\n",
       "      <td>0.188918</td>\n",
       "      <td>Yes</td>\n",
       "    </tr>\n",
       "    <tr>\n",
       "      <th>4</th>\n",
       "      <td>Indirect</td>\n",
       "      <td>0.078029</td>\n",
       "      <td>0.016330</td>\n",
       "      <td>0.000000e+00</td>\n",
       "      <td>0.047574</td>\n",
       "      <td>0.111477</td>\n",
       "      <td>Yes</td>\n",
       "    </tr>\n",
       "  </tbody>\n",
       "</table>\n",
       "</div>"
      ],
      "text/plain": [
       "               path      coef        se          pval  CI[2.5%]  CI[97.5%]  \\\n",
       "0  relative_BIC ~ X  0.204644  0.039904  3.523939e-07  0.126337   0.282952   \n",
       "1  Y ~ relative_BIC  0.396074  0.029488  7.308966e-38  0.338207   0.453941   \n",
       "2             Total  0.193216  0.040058  1.636559e-06  0.114607   0.271826   \n",
       "3            Direct  0.115188  0.037572  2.230617e-03  0.041457   0.188918   \n",
       "4          Indirect  0.078029  0.016330  0.000000e+00  0.047574   0.111477   \n",
       "\n",
       "   sig  \n",
       "0  Yes  \n",
       "1  Yes  \n",
       "2  Yes  \n",
       "3  Yes  \n",
       "4  Yes  "
      ]
     },
     "execution_count": 32,
     "metadata": {},
     "output_type": "execute_result"
    }
   ],
   "source": [
    "# Set up covariates\n",
    "covar = [\"Sol4_ML1\", \"Sol4_ML2\", \"Sol4_ML3\", \"age\", \"gender\", \"motivation\"]\n",
    "\n",
    "# Run the model\n",
    "mediation_analysis(\n",
    "    data=parameters_mh_measures_scaled,\n",
    "    x=\"Sol4_ML4\",\n",
    "    m=[\"relative_BIC\"],\n",
    "    y=\"p_correct\",\n",
    "    covar=covar,\n",
    "    alpha=0.05,\n",
    "    seed=42,\n",
    "    n_boot=10000,\n",
    ")"
   ]
  },
  {
   "cell_type": "code",
   "execution_count": 67,
   "metadata": {},
   "outputs": [
    {
     "data": {
      "text/plain": [
       "0.002230617"
      ]
     },
     "execution_count": 67,
     "metadata": {},
     "output_type": "execute_result"
    }
   ],
   "source": [
    "2.230617e-03"
   ]
  },
  {
   "cell_type": "markdown",
   "metadata": {},
   "source": [
    "The results look much the same when we use the relative model fit as the mediator.\n"
   ]
  },
  {
   "attachments": {},
   "cell_type": "markdown",
   "metadata": {},
   "source": [
    "## Combine all figures\n"
   ]
  },
  {
   "cell_type": "code",
   "execution_count": 63,
   "metadata": {},
   "outputs": [
    {
     "name": "stderr",
     "output_type": "stream",
     "text": [
      "/tmp/ipykernel_1341/2871215772.py:18: FutureWarning: Passing `palette` without assigning `hue` is deprecated.\n",
      "  sns.stripplot(\n",
      "/mnt/c/Users/tobyw/OneDrive-KCL/tools/stats-utils/stats_utils/regression/plotting.py:108: UserWarning: This figure includes Axes that are not compatible with tight_layout, so results might be incorrect.\n",
      "  plt.tight_layout()\n",
      "/mnt/c/Users/tobyw/OneDrive-KCL/tools/stats-utils/stats_utils/regression/plotting.py:108: UserWarning: This figure includes Axes that are not compatible with tight_layout, so results might be incorrect.\n",
      "  plt.tight_layout()\n"
     ]
    },
    {
     "data": {
      "image/png": "[encoded data removed]",
      "text/plain": [
       "<Figure size 640x560 with 9 Axes>"
      ]
     },
     "metadata": {},
     "output_type": "display_data"
    }
   ],
   "source": [
    "import matplotlib.gridspec as gridspec\n",
    "\n",
    "rename_dict = {\n",
    "    \"Sol4_ML1\": \"Ext.\",\n",
    "    \"Sol4_ML2\": \"Int.\",\n",
    "    \"Sol4_ML3\": \"Withdr.\",\n",
    "    \"Sol4_ML4\": \"Inatt.\",\n",
    "}\n",
    "\n",
    "fig = plt.figure(figsize=(8, 7))\n",
    "gs0 = fig.add_gridspec(3, 1, height_ratios=[1, 1, 1], hspace=0.5)\n",
    "\n",
    "gs00 = gs0[0].subgridspec(1, 3, width_ratios=[2, 1, 1], wspace=0.3)\n",
    "\n",
    "ax = [plt.subplot(gs00[0, i]) for i in range(3)]\n",
    "\n",
    "# model fits\n",
    "sns.stripplot(\n",
    "    x=\"model\",\n",
    "    y=\"BIC\",\n",
    "    data=subject_fit,\n",
    "    dodge=False,\n",
    "    alpha=0.3,\n",
    "    ax=ax[0],\n",
    "    palette=colours,\n",
    "    zorder=-1,\n",
    "    s=2,\n",
    ")\n",
    "sns.barplot(\n",
    "    x=\"model\",\n",
    "    y=\"BIC\",\n",
    "    data=subject_fit,\n",
    "    alpha=0.5,\n",
    "    capsize=0.05,\n",
    "    errwidth=0.8,\n",
    "    ax=ax[0],\n",
    "    palette=colours,\n",
    "    linewidth=0.8,\n",
    "    edgecolor=\"black\",\n",
    ")\n",
    "ax[0].set_xticklabels(ax[0].get_xticklabels(), rotation=45)\n",
    "ax[0].set_xlabel(\"\")\n",
    "ax[0].set_ylabel(\"BIC\\n(lower = better fit)\")\n",
    "\n",
    "max_bic = subject_fit[\"BIC\"].max()\n",
    "min_bic = subject_fit[\"BIC\"].min()\n",
    "\n",
    "# update X tick labels\n",
    "ax[0].set_xticklabels(model_display_names)\n",
    "\n",
    "sns.despine()\n",
    "\n",
    "# Correlation between W and p correct\n",
    "sns.regplot(\n",
    "    x=\"w_values\",\n",
    "    y=\"p_correct_raw\",\n",
    "    data=parameters_mh_measures,\n",
    "    scatter_kws={\"alpha\": 0.2, \"s\": 3},\n",
    "    ax=ax[1],\n",
    ")\n",
    "\n",
    "ax[1].set_xlabel(\"W\")\n",
    "ax[1].set_ylabel(\"P(correct)\")\n",
    "\n",
    "sns.despine()\n",
    "\n",
    "# Correlation between relative BIC and p correct\n",
    "sns.regplot(\n",
    "    x=\"relative_BIC\",\n",
    "    y=\"p_correct_raw\",\n",
    "    data=parameters_mh_measures,\n",
    "    scatter_kws={\"alpha\": 0.2, \"s\": 3},\n",
    "    ax=ax[2],\n",
    ")\n",
    "\n",
    "ax[2].set_xlabel(\"$\\Delta$ BIC\")\n",
    "ax[2].set_ylabel(\"P(correct)\")\n",
    "\n",
    "sns.despine()\n",
    "\n",
    "# W effects\n",
    "\n",
    "gs01 = gs0[1].subgridspec(1, 3, width_ratios=[1, 1, 1.5], wspace=0.5)\n",
    "\n",
    "ax = [plt.subplot(gs01[0, i]) for i in range(3)]\n",
    "\n",
    "plot_r2s(model_outputs[\"w_values\"], ax=ax[0])\n",
    "\n",
    "# remove title\n",
    "ax[0].set_title(\"\")\n",
    "\n",
    "forest_plot(\n",
    "    model_outputs[\"w_values\"].models[4],\n",
    "    rename_dict=rename_dict,\n",
    "    ax=ax[1],\n",
    "    show_xlabel=False,\n",
    "    exclude_param_names=[\"age\", \"gender\", \"motivation\"],\n",
    ")\n",
    "\n",
    "# Relative BIC\n",
    "\n",
    "gs02 = gs0[2].subgridspec(1, 3, width_ratios=[1, 1, 1.5], wspace=0.5)\n",
    "\n",
    "ax = [plt.subplot(gs02[0, i]) for i in range(3)]\n",
    "\n",
    "plot_r2s(model_outputs[\"relative_BIC\"], ax=ax[0])\n",
    "\n",
    "# remove title\n",
    "ax[0].set_title(\"\")\n",
    "\n",
    "forest_plot(\n",
    "    model_outputs[\"relative_BIC\"].models[4],\n",
    "    rename_dict=rename_dict,\n",
    "    ax=ax[1],\n",
    "    show_xlabel=False,\n",
    "    exclude_param_names=[\"age\", \"gender\", \"motivation\"],\n",
    ")\n",
    "\n",
    "\n",
    "# Save\n",
    "if not os.path.exists(\"figures/combined\"):\n",
    "    os.makedirs(\"figures/combined\")\n",
    "plt.savefig(\"figures/combined/figure4.svg\", bbox_inches=\"tight\")\n",
    "plt.savefig(\"figures/combined/figure4.pdf\", bbox_inches=\"tight\")"
   ]
  }
 ],
 "metadata": {
  "kernelspec": {
   "display_name": "ia_env",
   "language": "python",
   "name": "python3"
  },
  "language_info": {
   "codemirror_mode": {
    "name": "ipython",
    "version": 3
   },
   "file_extension": ".py",
   "mimetype": "text/x-python",
   "name": "python",
   "nbconvert_exporter": "python",
   "pygments_lexer": "ipython3",
   "version": "3.8.16"
  }
 },
 "nbformat": 4,
 "nbformat_minor": 4
}
